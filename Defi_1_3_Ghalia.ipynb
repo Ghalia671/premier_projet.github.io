{
 "cells": [
  {
   "cell_type": "markdown",
   "metadata": {},
   "source": [
    "\n",
    "Défi des parties 1 à 3\n",
    "\n",
    "Le but de l'exercice est de collecter deux sources de données et de les rassembler en une seule. Il n'y a pas besoin de librairies externes pour résoudre cet exercice.\n",
    "\n",
    "1 - Collecte de la donnée\n",
    "\n",
    "    Récupérer les données du fichier JSON \"data.json\" dans une structure de données Python (list, dict,...)\n",
    "    Récupérer les données du fichier CSV \"data.csv\" dans une structure de données Python (list, dict,...)\n",
    "    Concaténer les deux structures de données"
   ]
  },
  {
   "cell_type": "markdown",
   "metadata": {},
   "source": [
    "2 - Stockage des résultats\n",
    "\n",
    "    Créer un fichier JSON avec l'ensemble des données\n",
    "    Créer un fichier CSV avec l'ensemble des données"
   ]
  },
  {
   "cell_type": "markdown",
   "metadata": {},
   "source": [
    "3 - Présentation des résultats\n",
    "\n",
    "    Créer un compte Github (si vous ne l'avez pas déjà fait) -> lien vers Github\n",
    "    Créer un repository pour les notebooks des exercices de ce module\n",
    "    Créer une version web de votre notebook (statique ou interactive)"
   ]
  },
  {
   "cell_type": "code",
   "execution_count": 3,
   "metadata": {},
   "outputs": [],
   "source": [
    "import generic_class as gc"
   ]
  },
  {
   "cell_type": "code",
   "execution_count": 4,
   "metadata": {},
   "outputs": [
    {
     "name": "stdout",
     "output_type": "stream",
     "text": [
      "CSV file list data is :  [{'date': '10/02/20 ', 'depenses': '120'}, {'date': '20/03/20 ', 'depenses': '150'}, {'date': '15/04/20 ', 'depenses': '50'}, {'date': '19/04/20 ', 'depenses': '210'}, {'date': '17/05/20 ', 'depenses': '167'}]\n",
      "CSV Data retrieved\n",
      "JSON file list is : [{'date': '10/02/20', 'depenses': 120}, {'date': '20/03/20', 'depenses': 150}, {'date': '15/04/20', 'depenses': 50}, {'date': '19/04/20', 'depenses': 210}, {'date': '17/05/20', 'depenses': 167}]\n",
      "JSON Data retrieved\n",
      "List concatenated is : [[{'date': '10/02/20 ', 'depenses': '120'}, {'date': '20/03/20 ', 'depenses': '150'}, {'date': '15/04/20 ', 'depenses': '50'}, {'date': '19/04/20 ', 'depenses': '210'}, {'date': '17/05/20 ', 'depenses': '167'}], [{'date': '10/02/20', 'depenses': 120}, {'date': '20/03/20', 'depenses': 150}, {'date': '15/04/20', 'depenses': 50}, {'date': '19/04/20', 'depenses': 210}, {'date': '17/05/20', 'depenses': 167}]]\n",
      "JSON Data written\n",
      "CSV Data written\n"
     ]
    }
   ],
   "source": [
    "ret = gc.RetData()\n",
    "ret.startWorkFlow()"
   ]
  }
 ],
 "metadata": {
  "kernelspec": {
   "display_name": "Python 3",
   "language": "python",
   "name": "python3"
  },
  "language_info": {
   "codemirror_mode": {
    "name": "ipython",
    "version": 3
   },
   "file_extension": ".py",
   "mimetype": "text/x-python",
   "name": "python",
   "nbconvert_exporter": "python",
   "pygments_lexer": "ipython3",
   "version": "3.8.3"
  }
 },
 "nbformat": 4,
 "nbformat_minor": 4
}
